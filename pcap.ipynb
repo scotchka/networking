{
 "cells": [
  {
   "cell_type": "code",
   "execution_count": 54,
   "metadata": {},
   "outputs": [],
   "source": [
    "import struct"
   ]
  },
  {
   "cell_type": "code",
   "execution_count": 55,
   "metadata": {},
   "outputs": [],
   "source": [
    "with open('/Users/henry/Downloads/net.cap', 'rb') as f:\n",
    "    raw = f.read()"
   ]
  },
  {
   "cell_type": "code",
   "execution_count": 56,
   "metadata": {},
   "outputs": [],
   "source": [
    "pcap_file_header = raw[:24]"
   ]
  },
  {
   "cell_type": "code",
   "execution_count": 57,
   "metadata": {},
   "outputs": [],
   "source": [
    "raw = raw[24:]"
   ]
  },
  {
   "cell_type": "code",
   "execution_count": 58,
   "metadata": {},
   "outputs": [],
   "source": [
    "packets = []\n",
    "while raw:\n",
    "    packet_header = raw[:16]\n",
    "    raw = raw[16:]\n",
    "#     print(list(packet_header))\n",
    "    length = struct.unpack('I', packet_header[-4:])[0]\n",
    "    packet = raw[:length]\n",
    "    packets.append(packet)\n",
    "    raw = raw[length:]"
   ]
  },
  {
   "cell_type": "code",
   "execution_count": 61,
   "metadata": {},
   "outputs": [
    {
     "data": {
      "text/plain": [
       "[78,\n",
       " 76,\n",
       " 78,\n",
       " 76,\n",
       " 78,\n",
       " 76,\n",
       " 78,\n",
       " 76,\n",
       " 78,\n",
       " 78,\n",
       " 76,\n",
       " 76,\n",
       " 78,\n",
       " 76,\n",
       " 146,\n",
       " 1490,\n",
       " 66,\n",
       " 66,\n",
       " 66,\n",
       " 66,\n",
       " 66,\n",
       " 66,\n",
       " 1490,\n",
       " 1490,\n",
       " 1490,\n",
       " 1490,\n",
       " 1490,\n",
       " 78,\n",
       " 1490,\n",
       " 78,\n",
       " 1490,\n",
       " 78,\n",
       " 1490,\n",
       " 78,\n",
       " 1490,\n",
       " 1490,\n",
       " 66,\n",
       " 66,\n",
       " 1490,\n",
       " 1490,\n",
       " 1490,\n",
       " 78,\n",
       " 78,\n",
       " 1490,\n",
       " 1490,\n",
       " 78,\n",
       " 1490,\n",
       " 86,\n",
       " 1490,\n",
       " 86,\n",
       " 1490,\n",
       " 86,\n",
       " 1490,\n",
       " 86,\n",
       " 1490,\n",
       " 86,\n",
       " 1490,\n",
       " 86,\n",
       " 1490,\n",
       " 86,\n",
       " 1490,\n",
       " 86,\n",
       " 1490,\n",
       " 1490,\n",
       " 78,\n",
       " 1490,\n",
       " 1490,\n",
       " 66,\n",
       " 1490,\n",
       " 66,\n",
       " 1490,\n",
       " 1490,\n",
       " 66,\n",
       " 1490,\n",
       " 1490,\n",
       " 1490,\n",
       " 1490,\n",
       " 78,\n",
       " 1490,\n",
       " 1490,\n",
       " 66,\n",
       " 66,\n",
       " 1490,\n",
       " 1490,\n",
       " 66,\n",
       " 1490,\n",
       " 1490,\n",
       " 1490,\n",
       " 66,\n",
       " 66,\n",
       " 1490,\n",
       " 1490,\n",
       " 1490,\n",
       " 66,\n",
       " 1490,\n",
       " 452,\n",
       " 66,\n",
       " 66,\n",
       " 68]"
      ]
     },
     "execution_count": 61,
     "metadata": {},
     "output_type": "execute_result"
    }
   ],
   "source": [
    "[len(p) for p in packets]"
   ]
  },
  {
   "cell_type": "code",
   "execution_count": 62,
   "metadata": {},
   "outputs": [
    {
     "data": {
      "text/plain": [
       "b''"
      ]
     },
     "execution_count": 62,
     "metadata": {},
     "output_type": "execute_result"
    }
   ],
   "source": [
    "raw"
   ]
  },
  {
   "cell_type": "code",
   "execution_count": null,
   "metadata": {},
   "outputs": [],
   "source": []
  }
 ],
 "metadata": {
  "kernelspec": {
   "display_name": "Python 3",
   "language": "python",
   "name": "python3"
  },
  "language_info": {
   "codemirror_mode": {
    "name": "ipython",
    "version": 3
   },
   "file_extension": ".py",
   "mimetype": "text/x-python",
   "name": "python",
   "nbconvert_exporter": "python",
   "pygments_lexer": "ipython3",
   "version": "3.7.6"
  }
 },
 "nbformat": 4,
 "nbformat_minor": 4
}
