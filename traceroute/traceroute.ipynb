{
 "cells": [
  {
   "cell_type": "code",
   "execution_count": 11,
   "metadata": {},
   "outputs": [],
   "source": [
    "import socket\n",
    "from datetime import datetime"
   ]
  },
  {
   "cell_type": "code",
   "execution_count": 2,
   "metadata": {},
   "outputs": [],
   "source": [
    "s = socket.socket(family=socket.AF_INET, type=socket.SOCK_RAW, proto=socket.IPPROTO_ICMP)"
   ]
  },
  {
   "cell_type": "code",
   "execution_count": 3,
   "metadata": {},
   "outputs": [],
   "source": [
    "s.settimeout(3)"
   ]
  },
  {
   "cell_type": "code",
   "execution_count": 4,
   "metadata": {},
   "outputs": [],
   "source": [
    "s.setsockopt(socket.IPPROTO_IP, socket.IP_TTL, 9)"
   ]
  },
  {
   "cell_type": "code",
   "execution_count": 5,
   "metadata": {},
   "outputs": [
    {
     "data": {
      "text/plain": [
       "[8, 0, 249, 33, 254, 198, 0, 23]"
      ]
     },
     "execution_count": 5,
     "metadata": {},
     "output_type": "execute_result"
    }
   ],
   "source": [
    "header = b\"\\x08\\x00\\xf9\\x21\\xfe\\xc6\\x00\\x17\\x00\\x00\\x00\\x00\\x00\\x00\\x00\\x00\" \\\n",
    "b\"\\x00\\x00\\x00\\x00\\x00\\x00\\x00\\x00\\x00\\x00\\x00\\x00\\x00\\x00\\x00\\x00\" \\\n",
    "b\"\\x00\\x00\\x00\\x00\\x00\\x00\\x00\\x00\\x00\\x00\\x00\\x00\\x00\\x00\\x00\\x00\" \\\n",
    "b\"\\x00\\x00\\x00\\x00\"\n",
    "\n",
    "list(header[:8])"
   ]
  },
  {
   "cell_type": "code",
   "execution_count": 6,
   "metadata": {},
   "outputs": [
    {
     "data": {
      "text/plain": [
       "52"
      ]
     },
     "execution_count": 6,
     "metadata": {},
     "output_type": "execute_result"
    }
   ],
   "source": [
    "s.sendto(header, ('8.8.8.8', 0))"
   ]
  },
  {
   "cell_type": "code",
   "execution_count": 49,
   "metadata": {},
   "outputs": [
    {
     "name": "stdout",
     "output_type": "stream",
     "text": [
      "1 66.208.228.90 0.345 ms\n",
      "2 192.168.86.1 0.026 ms\n",
      "3 192.168.86.1 0.039 ms\n",
      "4 10.1.10.1 0.085 ms\n",
      "5 162.151.31.221 0.035 ms\n",
      "6 96.120.90.121 0.022 ms\n",
      "7 69.139.198.5 0.036 ms\n",
      "8 68.85.57.241 0.023 ms\n",
      "9 151.101.193.164 0.023 ms\n",
      "hello\n"
     ]
    }
   ],
   "source": [
    "ttl = 1\n",
    "dest = '151.101.193.164'\n",
    "while ttl < 12:\n",
    "    s.setsockopt(socket.IPPROTO_IP, socket.IP_TTL, ttl)\n",
    "    s.sendto(header, (dest, 0))\n",
    "    start = datetime.now()\n",
    "    try:\n",
    "        resp = s.recv(1024)\n",
    "    except socket.timeout as e:\n",
    "        print(ttl, 'timed out')\n",
    "    else:\n",
    "        ms = (datetime.now() - start).total_seconds()*1000\n",
    "        source = '.'.join([str(b) for b in resp[12:16]])\n",
    "        print(ttl, source, round(ms, 7), 'ms')\n",
    "        if source == dest:\n",
    "            print('hello')\n",
    "            break\n",
    "    finally:\n",
    "        ttl += 1"
   ]
  },
  {
   "cell_type": "code",
   "execution_count": 135,
   "metadata": {},
   "outputs": [
    {
     "data": {
      "text/plain": [
       "[68, 86, 143, 93]"
      ]
     },
     "execution_count": 135,
     "metadata": {},
     "output_type": "execute_result"
    }
   ],
   "source": [
    "list(resp)[12:16]"
   ]
  },
  {
   "cell_type": "code",
   "execution_count": 15,
   "metadata": {},
   "outputs": [
    {
     "data": {
      "text/plain": [
       "90.804356"
      ]
     },
     "execution_count": 15,
     "metadata": {},
     "output_type": "execute_result"
    }
   ],
   "source": [
    "(datetime.now() - start).total_seconds()"
   ]
  },
  {
   "cell_type": "code",
   "execution_count": 23,
   "metadata": {},
   "outputs": [
    {
     "data": {
      "text/plain": [
       "b'\\xc0\\xa8V\\x01'"
      ]
     },
     "execution_count": 23,
     "metadata": {},
     "output_type": "execute_result"
    }
   ],
   "source": [
    "resp[12:16]"
   ]
  },
  {
   "cell_type": "code",
   "execution_count": null,
   "metadata": {},
   "outputs": [],
   "source": []
  }
 ],
 "metadata": {
  "kernelspec": {
   "display_name": "Python 3",
   "language": "python",
   "name": "python3"
  },
  "language_info": {
   "codemirror_mode": {
    "name": "ipython",
    "version": 3
   },
   "file_extension": ".py",
   "mimetype": "text/x-python",
   "name": "python",
   "nbconvert_exporter": "python",
   "pygments_lexer": "ipython3",
   "version": "3.7.6"
  }
 },
 "nbformat": 4,
 "nbformat_minor": 4
}
