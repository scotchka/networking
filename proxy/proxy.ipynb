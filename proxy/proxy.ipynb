{
 "cells": [
  {
   "cell_type": "code",
   "execution_count": null,
   "metadata": {},
   "outputs": [],
   "source": [
    "import socket\n",
    "import threading"
   ]
  },
  {
   "cell_type": "code",
   "execution_count": null,
   "metadata": {},
   "outputs": [],
   "source": [
    "lock = threading.Lock()"
   ]
  },
  {
   "cell_type": "code",
   "execution_count": null,
   "metadata": {},
   "outputs": [],
   "source": [
    "def connect(conn, addr):\n",
    "    with conn, socket.socket() as s_dest:\n",
    "        print('Connected by', addr)\n",
    "        s_dest.connect(('', 9000))\n",
    "        while True:\n",
    "            req = conn.recv(1024)\n",
    "            s_dest.sendall(req)\n",
    "            print(req)\n",
    "            if req.endswith(b'\\r\\n\\r\\n'):\n",
    "                break\n",
    "        resp = s_dest.recv(1024)\n",
    "        conn.sendall(resp)\n",
    "        print(resp)\n",
    "        if resp.endswith(b'\\r\\n'):\n",
    "            resp = s_dest.recv(1024)\n",
    "            conn.sendall(resp)\n",
    "            print(resp)\n"
   ]
  },
  {
   "cell_type": "code",
   "execution_count": null,
   "metadata": {},
   "outputs": [],
   "source": [
    "with socket.socket() as s_origin, socket.socket() as s_dest:\n",
    "    \n",
    "    s_origin.bind(('', 8000))\n",
    "    s_origin.listen()\n",
    "    \n",
    "    s_dest.connect(('', 9000))\n",
    "\n",
    "    while True:\n",
    "        conn, addr = s_origin.accept()\n",
    "        connect(conn, addr)\n"
   ]
  },
  {
   "cell_type": "code",
   "execution_count": null,
   "metadata": {},
   "outputs": [],
   "source": []
  }
 ],
 "metadata": {
  "kernelspec": {
   "display_name": "Python 3",
   "language": "python",
   "name": "python3"
  },
  "language_info": {
   "codemirror_mode": {
    "name": "ipython",
    "version": 3
   },
   "file_extension": ".py",
   "mimetype": "text/x-python",
   "name": "python",
   "nbconvert_exporter": "python",
   "pygments_lexer": "ipython3",
   "version": "3.8.0"
  }
 },
 "nbformat": 4,
 "nbformat_minor": 4
}
