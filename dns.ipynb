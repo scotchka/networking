{
 "cells": [
  {
   "cell_type": "code",
   "execution_count": 76,
   "metadata": {},
   "outputs": [],
   "source": [
    "import struct\n",
    "import socket"
   ]
  },
  {
   "cell_type": "code",
   "execution_count": 68,
   "metadata": {},
   "outputs": [],
   "source": [
    "s = socket.socket(type=socket.SOCK_DGRAM)"
   ]
  },
  {
   "cell_type": "code",
   "execution_count": 133,
   "metadata": {},
   "outputs": [],
   "source": [
    "msg = \"\\x5a\\x7b\\x01\\x00\\x00\\x01\\x00\\x00\\x00\\x00\\x00\\x00\\x02\\x6c\\x62\\x07\" \\\n",
    "\"\\x5f\\x64\\x6e\\x73\\x2d\\x73\\x64\\x04\\x5f\\x75\\x64\\x70\\x01\\x30\\x02\\x38\" \\\n",
    "\"\\x36\\x03\\x31\\x36\\x38\\x03\\x31\\x39\\x32\\x07\\x69\\x6e\\x2d\\x61\\x64\\x64\" \\\n",
    "\"\\x72\\x04\\x61\\x72\\x70\\x61\\x00\\x00\\x0c\\x00\\x01\".encode()\n"
   ]
  },
  {
   "cell_type": "code",
   "execution_count": 127,
   "metadata": {},
   "outputs": [
    {
     "data": {
      "text/plain": [
       "(2, 108, 98, 7, 95, 100)"
      ]
     },
     "execution_count": 127,
     "metadata": {},
     "output_type": "execute_result"
    }
   ],
   "source": [
    "struct.unpack(6 * 'B', msg[12:18])"
   ]
  },
  {
   "cell_type": "code",
   "execution_count": 128,
   "metadata": {},
   "outputs": [
    {
     "data": {
      "text/plain": [
       "[(2, '\\x02'),\n",
       " (108, 'l'),\n",
       " (98, 'b'),\n",
       " (7, '\\x07'),\n",
       " (95, '_'),\n",
       " (100, 'd'),\n",
       " (110, 'n'),\n",
       " (115, 's'),\n",
       " (45, '-'),\n",
       " (115, 's'),\n",
       " (100, 'd'),\n",
       " (4, '\\x04'),\n",
       " (95, '_'),\n",
       " (117, 'u'),\n",
       " (100, 'd'),\n",
       " (112, 'p'),\n",
       " (1, '\\x01'),\n",
       " (48, '0'),\n",
       " (2, '\\x02'),\n",
       " (56, '8'),\n",
       " (54, '6'),\n",
       " (3, '\\x03'),\n",
       " (49, '1'),\n",
       " (54, '6'),\n",
       " (56, '8'),\n",
       " (3, '\\x03'),\n",
       " (49, '1'),\n",
       " (57, '9'),\n",
       " (50, '2'),\n",
       " (7, '\\x07'),\n",
       " (105, 'i'),\n",
       " (110, 'n'),\n",
       " (45, '-'),\n",
       " (97, 'a'),\n",
       " (100, 'd'),\n",
       " (100, 'd'),\n",
       " (114, 'r'),\n",
       " (4, '\\x04'),\n",
       " (97, 'a'),\n",
       " (114, 'r'),\n",
       " (112, 'p'),\n",
       " (97, 'a'),\n",
       " (0, '\\x00')]"
      ]
     },
     "execution_count": 128,
     "metadata": {},
     "output_type": "execute_result"
    }
   ],
   "source": [
    "list(zip(msg[12:-4],[chr(n) for n in msg[12:-4]]))"
   ]
  },
  {
   "cell_type": "code",
   "execution_count": 129,
   "metadata": {},
   "outputs": [
    {
     "data": {
      "text/plain": [
       "b'\\x00\\x01\\x00\\x01'"
      ]
     },
     "execution_count": 129,
     "metadata": {},
     "output_type": "execute_result"
    }
   ],
   "source": [
    "msg[-4:]"
   ]
  },
  {
   "cell_type": "code",
   "execution_count": 130,
   "metadata": {},
   "outputs": [
    {
     "data": {
      "text/plain": [
       "'0x1'"
      ]
     },
     "execution_count": 130,
     "metadata": {},
     "output_type": "execute_result"
    }
   ],
   "source": [
    "hex(1)"
   ]
  },
  {
   "cell_type": "code",
   "execution_count": 132,
   "metadata": {},
   "outputs": [
    {
     "data": {
      "text/plain": [
       "(b'Z{\\x81\\x83\\x00\\x01\\x00\\x00\\x00\\x00\\x00\\x00\\x02lb\\x07_dns-sd\\x04_udp\\x010\\x0286\\x03168\\x03192\\x07in-addr\\x04arpa\\x00\\x00\\x01\\x00\\x01',\n",
       " ('8.8.8.8', 53))"
      ]
     },
     "execution_count": 132,
     "metadata": {},
     "output_type": "execute_result"
    }
   ],
   "source": [
    "s.sendto(msg, ('8.8.8.8', 53))\n",
    "\n",
    "s.recvfrom(1000000)"
   ]
  },
  {
   "cell_type": "code",
   "execution_count": 135,
   "metadata": {},
   "outputs": [
    {
     "data": {
      "text/plain": [
       "b'Z{\\x81\\x83\\x00\\x01\\x00\\x00\\x00\\x00\\x00\\x00\\x02lb\\x07_dns-sd\\x04_udp\\x010\\x0286\\x03168\\x03192\\x07in-addr\\x04arpa\\x00\\x00\\x0c\\x00\\x01'"
      ]
     },
     "execution_count": 135,
     "metadata": {},
     "output_type": "execute_result"
    }
   ],
   "source": [
    "s.sendto(msg, ('8.8.8.8', 53))\n",
    "\n",
    "s.recv(1000000)"
   ]
  },
  {
   "cell_type": "code",
   "execution_count": null,
   "metadata": {},
   "outputs": [],
   "source": []
  }
 ],
 "metadata": {
  "kernelspec": {
   "display_name": "Python 3",
   "language": "python",
   "name": "python3"
  },
  "language_info": {
   "codemirror_mode": {
    "name": "ipython",
    "version": 3
   },
   "file_extension": ".py",
   "mimetype": "text/x-python",
   "name": "python",
   "nbconvert_exporter": "python",
   "pygments_lexer": "ipython3",
   "version": "3.7.6"
  }
 },
 "nbformat": 4,
 "nbformat_minor": 4
}
